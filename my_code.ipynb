{
 "cells": [
  {
   "cell_type": "markdown",
   "metadata": {},
   "source": [
    "### The Goal of this notebook is to evaluate a RAG system.\n",
    "\n",
    "### Follow carefully the instructions provided in the notebook"
   ]
  },
  {
   "cell_type": "markdown",
   "metadata": {},
   "source": [
    "##### Import Libraries to evaluate the Retriever"
   ]
  },
  {
   "cell_type": "code",
   "execution_count": 1,
   "metadata": {},
   "outputs": [],
   "source": [
    "from deepeval.metrics import (\n",
    "    ContextualPrecisionMetric,\n",
    "    ContextualRecallMetric,\n",
    "    ContextualRelevancyMetric)\n",
    "from deepeval.test_case import LLMTestCase\n",
    "\n",
    "import os"
   ]
  },
  {
   "cell_type": "markdown",
   "metadata": {},
   "source": [
    "###### Load your Open_AI_API_KEY"
   ]
  },
  {
   "cell_type": "code",
   "execution_count": 2,
   "metadata": {},
   "outputs": [],
   "source": [
    "\n",
    "from dotenv import load_dotenv\n",
    "load_dotenv()\n",
    "OPEN_API_KEY = os.getenv(\"OPEN_API_KEY\")"
   ]
  },
  {
   "cell_type": "code",
   "execution_count": 3,
   "metadata": {},
   "outputs": [],
   "source": [
    "contextual_precision = ContextualPrecisionMetric()\n",
    "contextual_recall = ContextualRecallMetric()\n",
    "contextual_relevancy = ContextualRelevancyMetric()"
   ]
  },
  {
   "cell_type": "markdown",
   "metadata": {},
   "source": [
    "###### First test case. To use deepevel, you need 4 elements: the user question, the expected output (the real answer in your document), the actual output(the response from your system), the retrieval context (To get the retieval context for a question, modify my_code.py by uncommenting from line 154-161, and ask your question to your chatbot, it will return a bunch of text follow by the answer to your question, you can copy that bunch of text and use it as your retrieval context)"
   ]
  },
  {
   "cell_type": "code",
   "execution_count": null,
   "metadata": {},
   "outputs": [],
   "source": [
    "\n",
    "Test_case = LLMTestCase(\n",
    "    input = \"what is the duration of the treatment of OLANZAPINE oral?\",\n",
    "    expected_output=\"\"\"Acute psychosis: at least 3 months\n",
    "    Chronic psychosis: at least one year\n",
    "    Manic episode: 8 weeks after remission of symptom\"\"\",\n",
    "    actual_output= \"\"\"Additionally, the following durations are specified:\n",
    "\n",
    "                        Acute psychosis: at least 3 months\n",
    "                        Chronic psychosis: at least one year\n",
    "                        Manic episode: 8 weeks after remission of symptoms\n",
    "                        But these durations refer to specific indications or situations, not necessarily the general treatment duration.\"\"\",\n",
    "\n",
    "    retrieval_context=[\"\"\"Page 238 / 656OLANZAPINE oral Last updated: February 2024   Prescription under medical supervision   Due to the numerous and potentially severe adverse effects of olanzapine, patients should be kept under close surveillance.   Therapeutic action Indications Forms and strengths Dosage Duration   Discontinue treatment gradually (over 4 weeks). If signs of relapse occur, increase the dose then decrease it more gradually.  Contra-indications, adverse effects, precautions    Atypical antipsychotic Acute and chronic psychosis and acute manic episode, in the event of intolerance or treatment failure with other antipsychotics (preferably use haloperidol for these indications)  2.5 mg, 5 mg and 10 mg tablets Adult: 10 mg once daily. Increase up to 15 mg daily if necessary (max. 20 mg daily). Reduce the dose by half in older patients (max. 10 mg daily). Acute psychosis: at least 3 months Chronic psychosis: at least one year Manic episode: 8 weeks after remission of symptoms\n",
    "\n",
    "                            Child and adult: 100 000 IU 4 times daily (1 ml of the oral suspension 4 times daily) for 7 days Take between meals (e.g. at least 30 minutes before eating). Shake oral suspension well before using. Pregnancy: no contra-indication Breast-feeding: no contra-indication Nystatin also comes in: 100 000 IU lozenge for the treatment of oropharyngeal candidiasis; 100 000 IU and 500 000 IU ﬁlm coated tablets for the treatment of oesophageal candidiasis.  For the treatment of moderate to severe oropharyngeal candidiasis and oesophageal candidiasis, oral ﬂuconazole is the ﬁrst-line treatment.Page 238 / 656OLANZAPINE oral Last updated: February 2024   Prescription under medical supervision   Due to the numerous and potentially severe adverse effects of olanzapine, patients should be kept under close surveillance.   Therapeutic action Indications Forms and strengths Dosage Duration   Discontinue treatment gradually (over 4 weeks). If signs of relapse occur, increase the dose then\n",
    "\n",
    "                            Therapeutic action Indications Forms and strengths Dosage Duration   Discontinue treatment gradually (over 4 weeks). If signs of relapse occur, increase the dose then decrease it more gradually.  Contra-indications, adverse effects, precautions    Atypical antipsychotic Acute and chronic psychosis and acute manic episode, in the event of intolerance or treatment failure with other antipsychotics (preferably use haloperidol for these indications)  2.5 mg, 5 mg and 10 mg tablets Adult: 10 mg once daily. Increase up to 15 mg daily if necessary (max. 20 mg daily). Reduce the dose by half in older patients (max. 10 mg daily). Acute psychosis: at least 3 months Chronic psychosis: at least one year Manic episode: 8 weeks after remission of symptoms Do not administer to patients with cardiac disorders (heart failure, recent myocardial infarction, conduction disorders, bradycardia, etc.), dementia (e.g. Alzheimer's disease), Parkinson's disease,\n",
    "\n",
    "                            Page 162 / 656Duration   Discontinue treatment gradually (over 4 weeks). If signs of relapse occur, increase the dose then decrease it more gradually. Contra-indications, adverse effects, precautions Storage  Below 25 °C Delirium and acute alcohol intoxication: as short as possible (max. 7 days) Acute psychosis: at least 3 months Chronic psychosis: at least one year Manic episode: 8 weeks after remission of symptoms Do not administer to patients with cardiac disorders (heart failure, recent myocardial infarction, conduction disorders, bradycardia, etc.), dementia (e.g. Alzheimer's disease), Parkinson's disease and history of neuroleptic malignant syndrome. Administer with caution and carefully monitor use in older patients and patients with hypokalaemia, hypotension, hyperthyroidism, renal or hepatic impairment, history of seizures. May cause: drowsiness (caution when driving/operating machinery), extrapyramidal symptoms, early\"\"\"]\n",
    "\n",
    "                            )"
   ]
  },
  {
   "cell_type": "markdown",
   "metadata": {},
   "source": [
    "##### Now you can run the code below to get the metric used to evaluate your retrieval model.\n",
    "\n",
    "##### You will get the score for each metric as well as the reason of that score."
   ]
  },
  {
   "cell_type": "code",
   "execution_count": 6,
   "metadata": {},
   "outputs": [
    {
     "data": {
      "text/html": [
       "<pre style=\"white-space:pre;overflow-x:auto;line-height:normal;font-family:Menlo,'DejaVu Sans Mono',consolas,'Courier New',monospace\">/home/ubuntu/.local/lib/python3.11/site-packages/rich/live.py:231: UserWarning: install \"ipywidgets\" for Jupyter \n",
       "support\n",
       "  warnings.warn('install \"ipywidgets\" for Jupyter support')\n",
       "</pre>\n"
      ],
      "text/plain": [
       "/home/ubuntu/.local/lib/python3.11/site-packages/rich/live.py:231: UserWarning: install \"ipywidgets\" for Jupyter \n",
       "support\n",
       "  warnings.warn('install \"ipywidgets\" for Jupyter support')\n"
      ]
     },
     "metadata": {},
     "output_type": "display_data"
    },
    {
     "data": {
      "text/html": [
       "<pre style=\"white-space:pre;overflow-x:auto;line-height:normal;font-family:Menlo,'DejaVu Sans Mono',consolas,'Courier New',monospace\"></pre>\n"
      ],
      "text/plain": []
     },
     "metadata": {},
     "output_type": "display_data"
    },
    {
     "name": "stdout",
     "output_type": "stream",
     "text": [
      "Contextual Precision:  1.0\n",
      "Reason:  The score is 1.00 because the relevant node ranks first, providing detailed information that directly answers the query regarding treatment duration for OLANZAPINE oral.\n"
     ]
    },
    {
     "data": {
      "text/html": [
       "<pre style=\"white-space:pre;overflow-x:auto;line-height:normal;font-family:Menlo,'DejaVu Sans Mono',consolas,'Courier New',monospace\"></pre>\n"
      ],
      "text/plain": []
     },
     "metadata": {},
     "output_type": "display_data"
    },
    {
     "name": "stdout",
     "output_type": "stream",
     "text": [
      "Contextual Recall:  1.0\n",
      "Reason:  The score is 1.00 because each element of the expected output has perfect alignment with the 2nd node in retrieval context, reflecting complete context retrieval.\n"
     ]
    },
    {
     "data": {
      "text/html": [
       "<pre style=\"white-space:pre;overflow-x:auto;line-height:normal;font-family:Menlo,'DejaVu Sans Mono',consolas,'Courier New',monospace\"></pre>\n"
      ],
      "text/plain": []
     },
     "metadata": {},
     "output_type": "display_data"
    },
    {
     "name": "stdout",
     "output_type": "stream",
     "text": [
      "Contextual Relevancy:  0.5714285714285714\n",
      "Reason:  The score is 0.57 because, while there are some relevant statements like 'OLANZAPINE oral treatment should be discontinued gradually' and specified durations for acute and chronic psychosis, they are overshadowed by content focusing on adverse effects and conditions unrelated to treatment duration.\n"
     ]
    }
   ],
   "source": [
    "contextual_precision.measure(test_case=Test_case)\n",
    "print(\"Contextual Precision: \", contextual_precision.score)\n",
    "print(\"Reason: \", contextual_precision.reason)\n",
    "\n",
    "\n",
    "contextual_recall.measure(test_case=Test_case)\n",
    "print(\"Contextual Recall: \", contextual_recall.score)\n",
    "print(\"Reason: \", contextual_recall.reason)\n",
    "\n",
    "contextual_relevancy.measure(test_case=Test_case)\n",
    "print(\"Contextual Relevancy: \", contextual_relevancy.score)\n",
    "print(\"Reason: \", contextual_relevancy.reason)"
   ]
  },
  {
   "cell_type": "code",
   "execution_count": null,
   "metadata": {},
   "outputs": [],
   "source": []
  },
  {
   "cell_type": "markdown",
   "metadata": {},
   "source": [
    "##### We do the same to evaluate your generator model.\n",
    "\n",
    "##### You will get the score for each metric as well as the reason of that score."
   ]
  },
  {
   "cell_type": "code",
   "execution_count": 7,
   "metadata": {},
   "outputs": [
    {
     "data": {
      "text/html": [
       "<pre style=\"white-space:pre;overflow-x:auto;line-height:normal;font-family:Menlo,'DejaVu Sans Mono',consolas,'Courier New',monospace\">/home/ubuntu/.local/lib/python3.11/site-packages/rich/live.py:231: UserWarning: install \"ipywidgets\" for Jupyter \n",
       "support\n",
       "  warnings.warn('install \"ipywidgets\" for Jupyter support')\n",
       "</pre>\n"
      ],
      "text/plain": [
       "/home/ubuntu/.local/lib/python3.11/site-packages/rich/live.py:231: UserWarning: install \"ipywidgets\" for Jupyter \n",
       "support\n",
       "  warnings.warn('install \"ipywidgets\" for Jupyter support')\n"
      ]
     },
     "metadata": {},
     "output_type": "display_data"
    },
    {
     "data": {
      "text/html": [
       "<pre style=\"white-space:pre;overflow-x:auto;line-height:normal;font-family:Menlo,'DejaVu Sans Mono',consolas,'Courier New',monospace\"></pre>\n"
      ],
      "text/plain": []
     },
     "metadata": {},
     "output_type": "display_data"
    },
    {
     "name": "stdout",
     "output_type": "stream",
     "text": [
      "Answer Relevancy:  1.0\n",
      "Reason:  The score is 1.00 because the response was fully relevant to the input, focusing solely on the duration of Olanzapine oral treatment.\n"
     ]
    },
    {
     "data": {
      "text/html": [
       "<pre style=\"white-space:pre;overflow-x:auto;line-height:normal;font-family:Menlo,'DejaVu Sans Mono',consolas,'Courier New',monospace\"></pre>\n"
      ],
      "text/plain": []
     },
     "metadata": {},
     "output_type": "display_data"
    },
    {
     "name": "stdout",
     "output_type": "stream",
     "text": [
      "Faithfulness:  1.0\n",
      "Reason:  The score is 1.00 because the actual output perfectly aligns with the retrieval context, demonstrating exemplary consistency and accuracy. Keep up the excellent work!\n"
     ]
    }
   ],
   "source": [
    "from deepeval.metrics import AnswerRelevancyMetric, FaithfulnessMetric\n",
    "\n",
    "answer_relevancy = AnswerRelevancyMetric()\n",
    "faithfulness = FaithfulnessMetric()\n",
    "\n",
    "\n",
    "\n",
    "answer_relevancy.measure(test_case=Test_case)\n",
    "print(\"Answer Relevancy: \", answer_relevancy.score)\n",
    "print(\"Reason: \", answer_relevancy.reason)\n",
    "\n",
    "faithfulness.measure(test_case=Test_case)\n",
    "print(\"Faithfulness: \", faithfulness.score)\n",
    "print(\"Reason: \", faithfulness.reason)"
   ]
  },
  {
   "cell_type": "code",
   "execution_count": null,
   "metadata": {},
   "outputs": [],
   "source": []
  },
  {
   "cell_type": "markdown",
   "metadata": {},
   "source": [
    "##### Perfect!!! You did it, you can try that with many other questions and see how your RAG system behave"
   ]
  },
  {
   "cell_type": "markdown",
   "metadata": {},
   "source": []
  }
 ],
 "metadata": {
  "kernelspec": {
   "display_name": "Python 3",
   "language": "python",
   "name": "python3"
  },
  "language_info": {
   "codemirror_mode": {
    "name": "ipython",
    "version": 3
   },
   "file_extension": ".py",
   "mimetype": "text/x-python",
   "name": "python",
   "nbconvert_exporter": "python",
   "pygments_lexer": "ipython3",
   "version": "3.11.12"
  }
 },
 "nbformat": 4,
 "nbformat_minor": 2
}
